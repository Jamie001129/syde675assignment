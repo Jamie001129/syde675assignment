{
 "cells": [
  {
   "cell_type": "markdown",
   "id": "0312c9f9",
   "metadata": {},
   "source": [
    "# Logistic Regression Demonstration.\n",
    "\n",
    "This code taken from https://machinelearningmastery.com/building-a-logistic-regression-classifier-in-pytorch/ by Jason Brownlee"
   ]
  },
  {
   "cell_type": "code",
   "execution_count": null,
   "id": "93787fd2",
   "metadata": {},
   "outputs": [],
   "source": [
    "import torch\n",
    "import torch.nn as nn\n",
    "import torchvision.transforms as transforms\n",
    "from torchvision import datasets\n",
    "\n",
    "import numpy as np\n",
    "import matplotlib.pyplot as plt"
   ]
  },
  {
   "cell_type": "code",
   "execution_count": null,
   "id": "f2e59561",
   "metadata": {},
   "outputs": [],
   "source": [
    "# loading training data\n",
    "train_dataset = datasets.MNIST(root='./data', \n",
    "                               train=True, \n",
    "                               transform=transforms.ToTensor(),\n",
    "                               download=True)\n",
    "#loading test data\n",
    "test_dataset = datasets.MNIST(root='./data', \n",
    "                              train=False, \n",
    "                              transform=transforms.ToTensor())\n",
    "\n",
    "\n",
    "\n",
    "print(\"number of training samples: \" + str(len(train_dataset)) + \"\\n\" +\n",
    "      \"number of testing samples: \" + str(len(test_dataset)))\n",
    "\n",
    "\n",
    "print(\"number of training samples: \" + str(len(train_dataset)) + \"\\n\" +\n",
    "      \"number of testing samples: \" + str(len(test_dataset)))\n",
    "\n",
    "print(\"label of the first taining sample: \", train_dataset[0][1])\n",
    "print(\"label of the second taining sample: \", train_dataset[1][1])"
   ]
  },
  {
   "cell_type": "code",
   "execution_count": null,
   "id": "adb0cd38",
   "metadata": {},
   "outputs": [],
   "source": [
    "img_5 = train_dataset[0][0].numpy().reshape(28, 28)\n",
    "\n",
    "img_0 = train_dataset[1][0].numpy().reshape(28, 28)\n",
    "\n",
    "\n",
    "plt.figure(figsize=(10,5))\n",
    "plt.subplot(1,2,1)\n",
    "plt.imshow(img_5, cmap='gray')\n",
    "\n",
    "plt.subplot(1,2,2)\n",
    "plt.imshow(img_0, cmap='gray')\n",
    "plt.show()"
   ]
  },
  {
   "cell_type": "code",
   "execution_count": null,
   "id": "98cf7164",
   "metadata": {},
   "outputs": [],
   "source": [
    "from torch.utils.data import DataLoader\n",
    " \n",
    "# load train and test data samples into dataloader\n",
    "batach_size = 32\n",
    "train_loader = DataLoader(dataset=train_dataset, batch_size=batach_size, shuffle=True) \n",
    "test_loader = DataLoader(dataset=test_dataset, batch_size=batach_size, shuffle=False)"
   ]
  },
  {
   "cell_type": "markdown",
   "id": "bce87fbd",
   "metadata": {},
   "source": [
    "# Define the logistic regression model\n",
    "\n",
    "This is using a different method for specifying neural network models.  Here we explicitly construct a Module object and specify the forward pass by applying each of the network layers in turn. \n",
    "\n",
    "Also, notice that this network is using a sigmoid output instead of a softmax output.  This is because the cross-entropy loss function already computes a softmax when evaluating the loss function.  See more [here](https://pytorch.org/docs/stable/generated/torch.nn.CrossEntropyLoss.html)"
   ]
  },
  {
   "cell_type": "code",
   "execution_count": null,
   "id": "4133e889",
   "metadata": {},
   "outputs": [],
   "source": [
    "class LogisticRegression(torch.nn.Module):    \n",
    "    # build the constructor\n",
    "    def __init__(self, n_inputs, n_outputs):\n",
    "        super(LogisticRegression, self).__init__()\n",
    "        self.linear = torch.nn.Linear(n_inputs, n_outputs)\n",
    "    # make predictions\n",
    "    def forward(self, x):\n",
    "        y_pred = torch.sigmoid(self.linear(x))\n",
    "        return y_pred"
   ]
  },
  {
   "cell_type": "markdown",
   "id": "865eaf81",
   "metadata": {},
   "source": [
    "# Define the training function."
   ]
  },
  {
   "cell_type": "code",
   "execution_count": null,
   "id": "24e73c8c",
   "metadata": {},
   "outputs": [],
   "source": [
    "def train_network(model, train_loader, test_loader, lr=0.001, epochs=50):\n",
    "\n",
    "    # defining the optimizer\n",
    "    optimizer = torch.optim.SGD(model.parameters(), lr=lr)\n",
    "    # defining Cross-Entropy loss\n",
    "    criterion = torch.nn.CrossEntropyLoss()\n",
    " \n",
    "    Loss = []\n",
    "    acc = []\n",
    "    for epoch in range(epochs):\n",
    "        for i, (images, labels) in enumerate(train_loader):\n",
    "            optimizer.zero_grad() # <--- here we are zeroing the grad before we start computing the \n",
    "            outputs = model(images.view(-1, 28*28)) # <-- Note! Magic numbers, we are flattening our image\n",
    "            loss = criterion(outputs, labels)\n",
    "            # Loss.append(loss.item())\n",
    "            loss.backward()\n",
    "            optimizer.step()\n",
    "        Loss.append(loss.item())\n",
    "        correct = 0\n",
    "        for images, labels in test_loader:\n",
    "            outputs = model(images.view(-1, 28*28))\n",
    "            _, predicted = torch.max(outputs.data, 1)\n",
    "            correct += (predicted == labels).sum()\n",
    "        accuracy = 100 * (correct.item()) / len(test_dataset)\n",
    "        acc.append(accuracy)\n",
    "        print('Epoch: {}. Loss: {}. Accuracy: {}'.format(epoch, loss.item(), accuracy))\n",
    "    \n",
    "    return Loss, acc"
   ]
  },
  {
   "cell_type": "code",
   "execution_count": null,
   "id": "c3e90208",
   "metadata": {},
   "outputs": [],
   "source": [
    "# instantiate the model\n",
    "n_inputs = 28*28 # makes a 1D vector of 784\n",
    "n_outputs = 10\n",
    "\n",
    "log_regr = LogisticRegression(n_inputs, n_outputs)\n",
    "log_regr_loss, log_regr_acc = train_network(log_regr, train_loader, test_loader)\n",
    "\n",
    "plt.figure(figsize=(10,5))\n",
    "\n",
    "plt.subplot(1,2,1)\n",
    "plt.plot(log_regr_loss)\n",
    "plt.xlabel(\"no. of epochs\")\n",
    "plt.ylabel(\"total loss\")\n",
    "plt.title(\"Loss\")\n",
    "\n",
    "plt.subplot(1,2,2)\n",
    "plt.plot(log_regr_acc)\n",
    "plt.xlabel(\"no. of epochs\")\n",
    "plt.ylabel(\"total accuracy\")\n",
    "plt.title(\"Accuracy\")\n",
    "plt.show()"
   ]
  },
  {
   "cell_type": "markdown",
   "id": "da8a955e",
   "metadata": {},
   "source": [
    "# Building a sequential model\n",
    "\n",
    "This technique uses the Sequential object we saw in class.  Because ```CrossEntropyLoss``` contains a softmax, we could remove the sigmoid output from this network, but then when we wanted to use the network, we would need to apply the softmax ourself."
   ]
  },
  {
   "cell_type": "code",
   "execution_count": null,
   "id": "7edffc38",
   "metadata": {},
   "outputs": [],
   "source": [
    "seq_log_regr = nn.Sequential(\n",
    "    nn.Linear(n_inputs, n_outputs),\n",
    "    nn.Sigmoid(),\n",
    ")\n",
    "\n",
    "seq_loss, seq_acc = train_network(seq_log_regr, train_loader, test_loader)\n",
    "\n",
    "plt.figure(figsize=(10,5))\n",
    "\n",
    "plt.subplot(1,2,1)\n",
    "plt.plot(seq_loss)\n",
    "plt.xlabel(\"no. of epochs\")\n",
    "plt.ylabel(\"total loss\")\n",
    "plt.title(\"Loss\")\n",
    "\n",
    "plt.subplot(1,2,2)\n",
    "plt.plot(seq_acc)\n",
    "plt.xlabel(\"no. of epochs\")\n",
    "plt.ylabel(\"total accuracy\")\n",
    "plt.title(\"Accuracy\")\n",
    "plt.show()"
   ]
  },
  {
   "cell_type": "code",
   "execution_count": null,
   "id": "b8130fb8",
   "metadata": {},
   "outputs": [],
   "source": []
  }
 ],
 "metadata": {
  "kernelspec": {
   "display_name": "Python [conda env:base] *",
   "language": "python",
   "name": "conda-base-py"
  },
  "language_info": {
   "codemirror_mode": {
    "name": "ipython",
    "version": 3
   },
   "file_extension": ".py",
   "mimetype": "text/x-python",
   "name": "python",
   "nbconvert_exporter": "python",
   "pygments_lexer": "ipython3",
   "version": "3.10.0"
  }
 },
 "nbformat": 4,
 "nbformat_minor": 5
}
